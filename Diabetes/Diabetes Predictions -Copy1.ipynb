{
 "cells": [
  {
   "cell_type": "markdown",
   "id": "8aacf467",
   "metadata": {},
   "source": [
    "Importing / Loading  library  in the Module "
   ]
  },
  {
   "cell_type": "code",
   "execution_count": 82,
   "id": "01d57c32",
   "metadata": {},
   "outputs": [],
   "source": [
    "import numpy as np \n",
    "import pandas as pd \n",
    "import sklearn as svm \n",
    "import sklearn.preprocessing as StandardScaler \n",
    "from sklearn.model_selection  import train_test_split \n",
    "from sklearn import svm\n",
    "from sklearn.metrics import accuracy_score  \n",
    "import matplotlib.pyplot as plt\n"
   ]
  },
  {
   "cell_type": "markdown",
   "id": "2e1d5a8b",
   "metadata": {},
   "source": [
    "import data from files "
   ]
  },
  {
   "cell_type": "code",
   "execution_count": 83,
   "id": "039f7968",
   "metadata": {},
   "outputs": [],
   "source": [
    "import pandas as pd\n",
    "\n",
    "diabetes_dataset = pd.read_csv(\"C:\\\\Users\\\\Dell\\\\Downloads\\\\jupyter nootbook\\\\ML\\\\Diabetes\\\\diabetes.csv\")\n"
   ]
  },
  {
   "cell_type": "code",
   "execution_count": 84,
   "id": "4f2055af",
   "metadata": {},
   "outputs": [],
   "source": [
    "diabetes_dataset.head()"
   ]
  },
  {
   "cell_type": "markdown",
   "id": "8749edc6",
   "metadata": {},
   "source": [
    "data set statstistical "
   ]
  },
  {
   "cell_type": "code",
   "execution_count": 85,
   "id": "7aa592e5",
   "metadata": {},
   "outputs": [],
   "source": [
    "diabetes_dataset.shape"
   ]
  },
  {
   "cell_type": "code",
   "execution_count": 86,
   "id": "7101c15a",
   "metadata": {},
   "outputs": [],
   "source": [
    "diabetes_dataset.describe()"
   ]
  },
  {
   "cell_type": "markdown",
   "id": "8d25a3a3",
   "metadata": {},
   "source": [
    "counts diabetes and non-diabetic persons "
   ]
  },
  {
   "cell_type": "code",
   "execution_count": 87,
   "id": "42f89fc9",
   "metadata": {},
   "outputs": [],
   "source": [
    "diabetes_dataset['Outcome'].value_counts()"
   ]
  },
  {
   "cell_type": "code",
   "execution_count": 88,
   "id": "19514f33",
   "metadata": {},
   "outputs": [],
   "source": [
    "diabetes_dataset.groupby('Outcome').mean()"
   ]
  },
  {
   "cell_type": "markdown",
   "id": "4d3d0638",
   "metadata": {},
   "source": [
    "0-> Non-Diabetic\n",
    "1-> Diabetic"
   ]
  },
  {
   "cell_type": "markdown",
   "id": "fe00e917",
   "metadata": {},
   "source": [
    "separat the data "
   ]
  },
  {
   "cell_type": "code",
   "execution_count": 89,
   "id": "f7863d49",
   "metadata": {},
   "outputs": [],
   "source": [
    "X = diabetes_dataset.drop(columns='Outcome' , axis=1)\n",
    "Y= diabetes_dataset['Outcome']"
   ]
  },
  {
   "cell_type": "code",
   "execution_count": 90,
   "id": "864bae29",
   "metadata": {},
   "outputs": [],
   "source": [
    "print(X)"
   ]
  },
  {
   "cell_type": "code",
   "execution_count": 91,
   "id": "36fbc830",
   "metadata": {},
   "outputs": [],
   "source": [
    "print(Y)"
   ]
  },
  {
   "cell_type": "markdown",
   "id": "cb296885",
   "metadata": {},
   "source": [
    "#  Data Standardization "
   ]
  },
  {
   "cell_type": "code",
   "execution_count": 92,
   "id": "51a05642",
   "metadata": {},
   "outputs": [],
   "source": [
    "from sklearn.preprocessing import StandardScaler\n",
    "\n",
    "# Assuming you have a dataset X, you can create an instance of StandardScaler like this:\n",
    "scaler = StandardScaler()\n"
   ]
  },
  {
   "cell_type": "code",
   "execution_count": 93,
   "id": "20b95e14",
   "metadata": {},
   "outputs": [],
   "source": [
    "scaler.fit(X)"
   ]
  },
  {
   "cell_type": "code",
   "execution_count": 94,
   "id": "646da931",
   "metadata": {},
   "outputs": [],
   "source": [
    "standardizes_data=scaler.transform(X)"
   ]
  },
  {
   "cell_type": "code",
   "execution_count": 95,
   "id": "c384082d",
   "metadata": {},
   "outputs": [],
   "source": [
    "print(standardizes_data)"
   ]
  },
  {
   "cell_type": "code",
   "execution_count": 96,
   "id": "010f6aa5",
   "metadata": {},
   "outputs": [],
   "source": [
    "X=standardizes_data\n",
    "Y=diabetes_dataset['Outcome']"
   ]
  },
  {
   "cell_type": "code",
   "execution_count": 97,
   "id": "b6ecb653",
   "metadata": {},
   "outputs": [],
   "source": [
    "print(X)\n",
    "print(Y)"
   ]
  },
  {
   "cell_type": "markdown",
   "id": "8dee61bb",
   "metadata": {},
   "source": [
    "## Visulization Of The Data ."
   ]
  },
  {
   "cell_type": "code",
   "execution_count": 98,
   "id": "d4843792",
   "metadata": {},
   "outputs": [],
   "source": [
    "# Summary statistics\n",
    "print(diabetes_dataset.describe())\n",
    "import seaborn as sns\n",
    "\n",
    "# Distribution of Outcome (0: Non-Diabetic, 1: Diabetic)\n",
    "sns.countplot(x='Outcome', data=diabetes_dataset)\n",
    "plt.title('Distribution of Outcome')\n",
    "plt.show()\n",
    "\n",
    "\n",
    "\n",
    "\n"
   ]
  },
  {
   "cell_type": "raw",
   "id": "37a8eb1a",
   "metadata": {},
   "source": []
  },
  {
   "cell_type": "code",
   "execution_count": 99,
   "id": "c91fd5fa",
   "metadata": {},
   "outputs": [],
   "source": [
    "# Correlation matrix\n",
    "correlation_matrix = diabetes_dataset.corr()\n",
    "plt.figure(figsize=(10, 8))\n",
    "sns.heatmap(correlation_matrix, annot=True, cmap='coolwarm', fmt=\".2f\")\n",
    "plt.title('Correlation Heatmap')\n",
    "plt.show()"
   ]
  },
  {
   "cell_type": "code",
   "execution_count": 100,
   "id": "62adf980",
   "metadata": {},
   "outputs": [],
   "source": [
    "import matplotlib.pyplot as plt\n",
    "\n",
    "# Histogram for 'Age' feature\n",
    "plt.figure(figsize=(8, 6))\n",
    "sns.histplot(diabetes_dataset['Age'], bins=20, kde=True)\n",
    "plt.title('Age Distribution')\n",
    "plt.xlabel('Age')\n",
    "plt.ylabel('Frequency')\n",
    "plt.show()\n"
   ]
  },
  {
   "cell_type": "code",
   "execution_count": 101,
   "id": "8cf2709a",
   "metadata": {},
   "outputs": [],
   "source": [
    "# Bar chart for 'Pregnancies'\n",
    "plt.figure(figsize=(8, 6))\n",
    "sns.countplot(x='Pregnancies', data=diabetes_dataset, palette='viridis')\n",
    "plt.title('Distribution of Pregnancies')\n",
    "plt.xlabel('Number of Pregnancies')\n",
    "plt.ylabel('Frequency')\n",
    "plt.xticks(rotation=45)  # Rotate x-axis labels for better readability\n",
    "plt.show()\n",
    "\n",
    "\n"
   ]
  },
  {
   "cell_type": "code",
   "execution_count": 102,
   "id": "b6ce51ba",
   "metadata": {},
   "outputs": [],
   "source": [
    "import seaborn as sns\n",
    "import matplotlib.pyplot as plt\n",
    "\n",
    "# Select only the numerical features (excluding 'Outcome')\n",
    "numerical_features = diabetes_dataset.drop(columns='Outcome')\n",
    "\n",
    "# Create boxplots for all numerical features\n",
    "plt.figure(figsize=(14, 8))\n",
    "sns.boxplot(data=numerical_features, orient='h', palette='viridis')\n",
    "plt.title('Boxplots for Numerical Features')\n",
    "plt.xlabel('Feature Values')\n",
    "plt.show()\n"
   ]
  },
  {
   "cell_type": "code",
   "execution_count": 103,
   "id": "aa80ec46",
   "metadata": {},
   "outputs": [],
   "source": [
    "import seaborn as sns\n",
    "import matplotlib.pyplot as plt\n",
    "\n",
    "# Pairplot for all numerical features\n",
    "sns.pairplot(diabetes_dataset, hue='Outcome', diag_kind='kde')\n",
    "plt.show()\n"
   ]
  },
  {
   "cell_type": "markdown",
   "id": "483d1387",
   "metadata": {},
   "source": [
    "# Train-Test Split data "
   ]
  },
  {
   "cell_type": "code",
   "execution_count": 104,
   "id": "50b93002",
   "metadata": {},
   "outputs": [],
   "source": [
    "#split the data into traning data and test data"
   ]
  },
  {
   "cell_type": "code",
   "execution_count": 105,
   "id": "3acb612b",
   "metadata": {},
   "outputs": [],
   "source": [
    "X_train ,X_test, Y_train, Y_test =train_test_split(X,Y,test_size= 0.2, stratify =Y , random_state=2)"
   ]
  },
  {
   "cell_type": "code",
   "execution_count": 106,
   "id": "0f6f095a",
   "metadata": {},
   "outputs": [],
   "source": [
    "print(X.shape, X_train.shape , X_test.shape)"
   ]
  },
  {
   "cell_type": "markdown",
   "id": "500bfde8",
   "metadata": {},
   "source": [
    "# Traning the model "
   ]
  },
  {
   "cell_type": "markdown",
   "id": "c9fb6794",
   "metadata": {},
   "source": [
    "## Linear regression  "
   ]
  },
  {
   "cell_type": "code",
   "execution_count": 107,
   "id": "a69a3983",
   "metadata": {},
   "outputs": [],
   "source": [
    "classifier=svm.SVC(kernel='linear',C=1.5)"
   ]
  },
  {
   "cell_type": "markdown",
   "id": "c1cd71c6",
   "metadata": {},
   "source": [
    "traning the support vector machine Classifier "
   ]
  },
  {
   "cell_type": "code",
   "execution_count": 108,
   "id": "6cc504f0",
   "metadata": {},
   "outputs": [],
   "source": [
    "classifier.fit(X_train , Y_train)"
   ]
  },
  {
   "cell_type": "markdown",
   "id": "bb3fe580",
   "metadata": {},
   "source": [
    "Model Evaluation "
   ]
  },
  {
   "cell_type": "markdown",
   "id": "55effdd1",
   "metadata": {},
   "source": [
    "# Accuracy Score "
   ]
  },
  {
   "cell_type": "code",
   "execution_count": 109,
   "id": "60465293",
   "metadata": {},
   "outputs": [],
   "source": [
    "#Accuracy Score on treanding data "
   ]
  },
  {
   "cell_type": "code",
   "execution_count": 110,
   "id": "5af4ef83",
   "metadata": {},
   "outputs": [],
   "source": [
    "X_train_prediction = classifier.predict(X_train)\n",
    "\n",
    "training_data_accuracy=accuracy_score(X_train_prediction, Y_train)"
   ]
  },
  {
   "cell_type": "code",
   "execution_count": 111,
   "id": "f237d8ce",
   "metadata": {},
   "outputs": [],
   "source": [
    "print('Accuracy score of the traning data :' ,training_data_accuracy)"
   ]
  },
  {
   "cell_type": "code",
   "execution_count": 112,
   "id": "31a17247",
   "metadata": {},
   "outputs": [],
   "source": [
    "X_test_prediction = classifier.predict(X_test)\n",
    "\n",
    "test_data_accuracy=accuracy_score(X_test_prediction, Y_test)"
   ]
  },
  {
   "cell_type": "code",
   "execution_count": 113,
   "id": "71496e3a",
   "metadata": {},
   "outputs": [],
   "source": [
    "print('Accuracy score of the testing data :' ,test_data_accuracy)"
   ]
  },
  {
   "cell_type": "code",
   "execution_count": null,
   "id": "e9683dd3",
   "metadata": {},
   "outputs": [],
   "source": []
  },
  {
   "cell_type": "markdown",
   "id": "cfe87518",
   "metadata": {},
   "source": [
    "\n",
    "#  Making Predictive System  "
   ]
  },
  {
   "cell_type": "code",
   "execution_count": 114,
   "id": "ebff13e3",
   "metadata": {},
   "outputs": [],
   "source": [
    "input_data = (\n",
    "1,85,66,29,0,26.6,0.351,31)"
   ]
  },
  {
   "cell_type": "code",
   "execution_count": 115,
   "id": "0559c910",
   "metadata": {},
   "outputs": [],
   "source": [
    "#changing the input data to numpy array "
   ]
  },
  {
   "cell_type": "code",
   "execution_count": 116,
   "id": "9fefe75f",
   "metadata": {},
   "outputs": [],
   "source": [
    "input_data_as_numpy_array = np.asarray(input_data)\n",
    "#reshape the arrary as we are predecting for instances "
   ]
  },
  {
   "cell_type": "code",
   "execution_count": 117,
   "id": "d43d2e32",
   "metadata": {},
   "outputs": [],
   "source": [
    "input_data_reshaped = input_data_as_numpy_array.reshape(1, -1)\n"
   ]
  },
  {
   "cell_type": "code",
   "execution_count": 118,
   "id": "7a6841a1",
   "metadata": {},
   "outputs": [],
   "source": [
    "#standardize the input data "
   ]
  },
  {
   "cell_type": "code",
   "execution_count": 119,
   "id": "546fdb0e",
   "metadata": {},
   "outputs": [],
   "source": [
    "from sklearn.metrics import precision_score, recall_score, f1_score\n",
    "\n",
    "# Assuming you have already trained your SVM classifier\n",
    "# X_train_prediction and X_test_prediction are the predicted labels for the training and testing data\n",
    "\n",
    "# Calculate precision, recall, and F1-score for training data\n",
    "training_precision = precision_score(Y_train, X_train_prediction)\n",
    "training_recall = recall_score(Y_train, X_train_prediction)\n",
    "training_f1 = f1_score(Y_train, X_train_prediction)\n",
    "\n",
    "# Calculate precision, recall, and F1-score for testing data\n",
    "testing_precision = precision_score(Y_test, X_test_prediction)\n",
    "testing_recall = recall_score(Y_test, X_test_prediction)\n",
    "testing_f1 = f1_score(Y_test, X_test_prediction)\n",
    "\n",
    "# Print the results\n",
    "print(\"Training Precision:\", training_precision)\n",
    "print(\"Training Recall:\", training_recall)\n",
    "print(\"Training F1-score:\", training_f1)\n",
    "\n",
    "print(\"Testing Precision:\", testing_precision)\n",
    "print(\"Testing Recall:\", testing_recall)\n",
    "print(\"Testing F1-score:\", testing_f1)\n"
   ]
  },
  {
   "cell_type": "code",
   "execution_count": 120,
   "id": "b0227034",
   "metadata": {},
   "outputs": [],
   "source": [
    "std_data=scaler.transform(input_data_reshaped)"
   ]
  },
  {
   "cell_type": "code",
   "execution_count": 121,
   "id": "66535d25",
   "metadata": {},
   "outputs": [],
   "source": [
    "print(std_data)"
   ]
  },
  {
   "cell_type": "code",
   "execution_count": 122,
   "id": "884b0ca6",
   "metadata": {},
   "outputs": [],
   "source": [
    "prediction = classifier.predict(std_data)"
   ]
  },
  {
   "cell_type": "code",
   "execution_count": 123,
   "id": "ad14e623",
   "metadata": {},
   "outputs": [],
   "source": [
    "print(prediction)"
   ]
  },
  {
   "cell_type": "code",
   "execution_count": 124,
   "id": "15d2e516",
   "metadata": {},
   "outputs": [],
   "source": [
    "if (prediction[0]==0):\n",
    "    print(\"the person is not diabetic\")\n",
    "else:\n",
    "    print(\"The person is diabetic \")"
   ]
  },
  {
   "cell_type": "markdown",
   "id": "6a6d221a",
   "metadata": {},
   "source": [
    "# Random forest "
   ]
  },
  {
   "cell_type": "code",
   "execution_count": 125,
   "id": "ec7ec9ff",
   "metadata": {},
   "outputs": [],
   "source": [
    "from sklearn.ensemble import RandomForestClassifier\n",
    "from sklearn.metrics import accuracy_score\n"
   ]
  },
  {
   "cell_type": "code",
   "execution_count": 126,
   "id": "8ca1bc50",
   "metadata": {},
   "outputs": [],
   "source": [
    "rf_classifier = RandomForestClassifier(n_estimators=100,max_depth= 20 ,random_state=42)\n",
    "# You can adjust the number of estimators (trees) as needed.\n"
   ]
  },
  {
   "cell_type": "code",
   "execution_count": 127,
   "id": "210891a7",
   "metadata": {},
   "outputs": [],
   "source": [
    "rf_classifier = RandomForestClassifier(n_estimators=100,min_samples_leaf= 5 ,random_state=42)\n",
    "# You can adjust the number of estimators (trees) as needed.\n"
   ]
  },
  {
   "cell_type": "code",
   "execution_count": 128,
   "id": "2991a3cf",
   "metadata": {},
   "outputs": [],
   "source": [
    "rf_classifier.fit(X_train, Y_train)\n"
   ]
  },
  {
   "cell_type": "code",
   "execution_count": 129,
   "id": "e9acc550",
   "metadata": {},
   "outputs": [],
   "source": [
    "# Training data predictions\n",
    "X_train_predictions = rf_classifier.predict(X_train)\n",
    "training_accuracy = accuracy_score(X_train_predictions, Y_train)\n",
    "print('Accuracy score on the training data:', training_accuracy)\n",
    "\n",
    "# Testing data predictions\n",
    "X_test_predictions = rf_classifier.predict(X_test)\n",
    "testing_accuracy = accuracy_score(X_test_predictions, Y_test)\n",
    "print('Accuracy score on the testing data:', testing_accuracy)\n"
   ]
  },
  {
   "cell_type": "markdown",
   "id": "b019bf2e",
   "metadata": {},
   "source": [
    "### from this above traning data we can see , we can't use random forest classifier ."
   ]
  },
  {
   "cell_type": "code",
   "execution_count": null,
   "id": "90ca4aa7",
   "metadata": {},
   "outputs": [],
   "source": []
  },
  {
   "cell_type": "markdown",
   "id": "fa889f3b",
   "metadata": {},
   "source": [
    "# k-Nearest Neighbors (k-NN)  Model"
   ]
  },
  {
   "cell_type": "code",
   "execution_count": 130,
   "id": "0322649b",
   "metadata": {},
   "outputs": [],
   "source": [
    "from sklearn.neighbors import KNeighborsClassifier\n",
    "from sklearn.model_selection import train_test_split\n",
    "from sklearn.metrics import accuracy_score\n"
   ]
  },
  {
   "cell_type": "code",
   "execution_count": 131,
   "id": "4f09e84f",
   "metadata": {},
   "outputs": [],
   "source": [
    "knn_classifier = KNeighborsClassifier(n_neighbors=5)  # You can change the number of neighbors (k) as needed.\n"
   ]
  },
  {
   "cell_type": "code",
   "execution_count": 132,
   "id": "ea404f9a",
   "metadata": {},
   "outputs": [],
   "source": [
    "knn_classifier.fit(X_train, Y_train)\n"
   ]
  },
  {
   "cell_type": "code",
   "execution_count": 133,
   "id": "72d1a684",
   "metadata": {},
   "outputs": [],
   "source": [
    "# Training data predictions\n",
    "X_train_predictions = knn_classifier.predict(X_train)\n",
    "training_accuracy = accuracy_score(X_train_predictions, Y_train)\n",
    "print('Accuracy score on the training data:', training_accuracy)\n",
    "\n",
    "# Testing data predictions\n",
    "X_test_predictions = knn_classifier.predict(X_test)\n",
    "testing_accuracy = accuracy_score(X_test_predictions, Y_test)\n",
    "print('Accuracy score on the testing data:', testing_accuracy)\n"
   ]
  },
  {
   "cell_type": "code",
   "execution_count": null,
   "id": "22885890",
   "metadata": {},
   "outputs": [],
   "source": []
  },
  {
   "cell_type": "code",
   "execution_count": null,
   "id": "7a81af84",
   "metadata": {},
   "outputs": [],
   "source": []
  },
  {
   "cell_type": "markdown",
   "id": "b4253694",
   "metadata": {},
   "source": [
    "# Decision Tree Classifier:"
   ]
  },
  {
   "cell_type": "code",
   "execution_count": 134,
   "id": "a4f87e67",
   "metadata": {},
   "outputs": [],
   "source": [
    "from sklearn.tree import DecisionTreeClassifier\n",
    "from sklearn.metrics import accuracy_score\n"
   ]
  },
  {
   "cell_type": "code",
   "execution_count": 135,
   "id": "f8e80675",
   "metadata": {},
   "outputs": [],
   "source": [
    "dt_classifier = DecisionTreeClassifier(max_depth=5,random_state=42)\n",
    "# You can adjust hyperparameters like max_depth, min_samples_split, etc., as needed.\n"
   ]
  },
  {
   "cell_type": "code",
   "execution_count": 136,
   "id": "916686cc",
   "metadata": {},
   "outputs": [],
   "source": [
    "dt_classifier = DecisionTreeClassifier(min_samples_leaf=5, random_state=42)\n"
   ]
  },
  {
   "cell_type": "code",
   "execution_count": 137,
   "id": "2a326f74",
   "metadata": {},
   "outputs": [],
   "source": [
    "dt_classifier.fit(X_train, Y_train)\n"
   ]
  },
  {
   "cell_type": "code",
   "execution_count": 138,
   "id": "c049943b",
   "metadata": {},
   "outputs": [],
   "source": [
    "# Training data predictions\n",
    "X_train_predictions = dt_classifier.predict(X_train)\n",
    "training_accuracy = accuracy_score(X_train_predictions, Y_train)\n",
    "print('Accuracy score on the training data:', training_accuracy)\n",
    "\n",
    "# Testing data predictions\n",
    "X_test_predictions = dt_classifier.predict(X_test)\n",
    "testing_accuracy = accuracy_score(X_test_predictions, Y_test)\n",
    "print('Accuracy score on the testing data:', testing_accuracy)\n"
   ]
  },
  {
   "cell_type": "markdown",
   "id": "1c905138",
   "metadata": {},
   "source": [
    "from above acore of traning we are come accross that we are not using the DecisiomTreeClassifier . "
   ]
  }
 ],
 "metadata": {
  "kernelspec": {
   "display_name": "Python 3 (ipykernel)",
   "language": "python",
   "name": "python3"
  },
  "language_info": {
   "codemirror_mode": {
    "name": "ipython",
    "version": 3
   },
   "file_extension": ".py",
   "mimetype": "text/x-python",
   "name": "python",
   "nbconvert_exporter": "python",
   "pygments_lexer": "ipython3",
   "version": "3.11.3"
  }
 },
 "nbformat": 4,
 "nbformat_minor": 5
}
